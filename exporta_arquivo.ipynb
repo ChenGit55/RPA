{
 "cells": [
  {
   "cell_type": "code",
   "execution_count": 1,
   "metadata": {},
   "outputs": [],
   "source": [
    "import pandas as pd\n",
    "import pyautogui as pyg\n",
    "from selenium import webdriver\n",
    "import time\n",
    "import os"
   ]
  },
  {
   "cell_type": "code",
   "execution_count": 2,
   "metadata": {},
   "outputs": [],
   "source": [
    "base_path = os.getcwd()\n",
    "pyg.PAUSE = 0.5"
   ]
  },
  {
   "cell_type": "code",
   "execution_count": 3,
   "metadata": {},
   "outputs": [],
   "source": [
    "# criando data frame com uma lista de empresas\n",
    "empresas_arquivo = [\n",
    "    [\"06/2024\", 391, \"Empresa teste 1\", \"123123123123123\"],\n",
    "    [\"03/2024\", 292, \"Empresa teste 2\", \"098098098098098\"],\n",
    "    [\"05/2024\", 148, \"Empresa teste 3\", \"045045045000134\"],\n",
    "]\n",
    "empresas = pd.DataFrame(\n",
    "    empresas_arquivo, columns=[\"Competência\", \"Código ER\", \"Empresa\", \"CNPJ-CPF\"]\n",
    ")"
   ]
  },
  {
   "cell_type": "code",
   "execution_count": 4,
   "metadata": {},
   "outputs": [],
   "source": [
    "# funçaao que retorna as cordenadas da imagem\n",
    "def find_image(file_name, max_attempts=5, delay=0.5):\n",
    "    base_path = os.getcwd()  # os.path.dirname(__file__)\n",
    "    full_path = os.path.join(base_path, file_name)\n",
    "    location = None\n",
    "    for _ in range(max_attempts):\n",
    "        location = pyg.locateCenterOnScreen(full_path, confidence=0.7)\n",
    "        if location is None:\n",
    "            time.sleep(delay)\n",
    "            break\n",
    "    return location"
   ]
  },
  {
   "cell_type": "markdown",
   "metadata": {},
   "source": [
    "# Tela 1\n",
    "    Abrir o navegador, entrar no site https://www.dominioweb.com.br/ e realizar o login\n",
    "    Use as credenciais:\n",
    "    - user: usuarioteste@teste.com\n",
    "    - password: Uteste@123!"
   ]
  },
  {
   "cell_type": "code",
   "execution_count": 5,
   "metadata": {},
   "outputs": [],
   "source": [
    "# configura o navegador\n",
    "def open_browser(url_start_path):\n",
    "    driver = webdriver.Chrome()\n",
    "    pyg.shortcut(\"winleft\", \"up\")\n",
    "    driver.get(url_start_path)\n",
    "\n",
    "    return driver\n",
    "\n",
    "\n",
    "driver = open_browser(\"https://www.dominioweb.com.br/\")"
   ]
  },
  {
   "cell_type": "code",
   "execution_count": 6,
   "metadata": {},
   "outputs": [],
   "source": [
    "time.sleep(2)\n",
    "\n",
    "try:\n",
    "    user_field = find_image(\"user_login.png\")\n",
    "    # credenciais\n",
    "    user = \"usuarioteste@teste.com\"\n",
    "    password = \"Uteste@123!\"\n",
    "\n",
    "    # cria uma variável com os campos da tela de login\n",
    "    pyg.click(user_field)\n",
    "    pyg.write(user)\n",
    "    pyg.press(\"tab\")\n",
    "    pyg.write(password)\n",
    "    pyg.press(\"tab\")\n",
    "    pyg.press(\"tab\")\n",
    "    pyg.press(\"enter\")\n",
    "\n",
    "except:\n",
    "    print(f\"Error ao carregar tela de login\")\n",
    "    exit()"
   ]
  },
  {
   "cell_type": "code",
   "execution_count": null,
   "metadata": {},
   "outputs": [],
   "source": []
  },
  {
   "cell_type": "markdown",
   "metadata": {},
   "source": [
    "# Tela 2\n",
    "    Login concluído e abrindo o programa Domínio no computador"
   ]
  },
  {
   "cell_type": "markdown",
   "metadata": {},
   "source": [
    "# Tela 3\n",
    "    Menu de opções do Domínio\n",
    "    Selecionar a opção de Escrita Fiscal"
   ]
  },
  {
   "cell_type": "code",
   "execution_count": 7,
   "metadata": {},
   "outputs": [
    {
     "name": "stdout",
     "output_type": "stream",
     "text": [
      "Error ao carregar tela do painel domínio web\n"
     ]
    }
   ],
   "source": [
    "time.sleep(2)\n",
    "try:\n",
    "    icone_escrita_fiscal = find_image(\"icone_escrita_fiscal.png\")\n",
    "    pyg.doubleClick(icone_escrita_fiscal)\n",
    "\n",
    "except:\n",
    "    print(f\"Error ao carregar tela do painel domínio web\")\n",
    "    exit()"
   ]
  },
  {
   "cell_type": "markdown",
   "metadata": {},
   "source": [
    "# Tela 4\n",
    "\tJanela de Login\n",
    "\tUtilize as credenciais:\n",
    "\t\t- user: Gerente\n",
    "\t\t- password: teste@123"
   ]
  },
  {
   "cell_type": "code",
   "execution_count": 8,
   "metadata": {},
   "outputs": [
    {
     "name": "stdout",
     "output_type": "stream",
     "text": [
      "Error ao carregar tela de login do programa escrita fiscal\n"
     ]
    },
    {
     "ename": "",
     "evalue": "",
     "output_type": "error",
     "traceback": [
      "\u001b[1;31mThe Kernel crashed while executing code in the current cell or a previous cell. \n",
      "\u001b[1;31mPlease review the code in the cell(s) to identify a possible cause of the failure. \n",
      "\u001b[1;31mClick <a href='https://aka.ms/vscodeJupyterKernelCrash'>here</a> for more info. \n",
      "\u001b[1;31mView Jupyter <a href='command:jupyter.viewOutput'>log</a> for further details."
     ]
    }
   ],
   "source": [
    "user_manager = \"Gerente\"\n",
    "password_manager = \"teste@123\"\n",
    "time.sleep(2)\n",
    "try:\n",
    "    tela_login_escrita_fiscal = find_image(\"login_escrita_fiscal.png\")\n",
    "    user_manager_input = find_image(\"user_manager_input.png\")\n",
    "    pyg.click(user_manager_input)\n",
    "    pyg.write(user_manager)\n",
    "    pyg.press(\"tab\")\n",
    "    pyg.write(password_manager)\n",
    "\n",
    "\n",
    "except:\n",
    "    print(f\"Error ao carregar tela de login do programa escrita fiscal\")\n",
    "    exit()"
   ]
  },
  {
   "cell_type": "markdown",
   "metadata": {},
   "source": [
    "# Tela 5\n",
    "    Login realizado e programa Domínio dentro da área fiscal"
   ]
  },
  {
   "cell_type": "markdown",
   "metadata": {},
   "source": [
    "# Tela 6\n",
    "    Apertar f8 para abrir a janela de seleção de empresa\n",
    "    Escolher a opção código\n",
    "    Digitar o código da empresa com base na planilha\n",
    "    Ativar a empresa"
   ]
  },
  {
   "cell_type": "code",
   "execution_count": null,
   "metadata": {},
   "outputs": [],
   "source": [
    "time.sleep(2)\n",
    "try:\n",
    "    for indice, linha in empresas.iterrows():\n",
    "        cod_er = linha[\"Código ER\"]\n",
    "        pyg.press(\"f8\")\n",
    "\n",
    "        # seleciona a opcao Código\n",
    "        cod_radio = find_image(\"cod_radio.png\")\n",
    "        pyg.click(cod_radio)\n",
    "\n",
    "        # selecionar e ativar a emrpesa\n",
    "        cod_input = find_image(\"cod_input.png\")\n",
    "        pyg.click(cod_input)\n",
    "        pyg.write(cod_er)\n",
    "        pyg.shortcut(\"alt\", \"a\")\n",
    "        pyg.press(\"enter\")\n",
    "\n",
    "\n",
    "except:\n",
    "    print(f\"Error ao carregar tela de troca de empresas\")\n",
    "    exit()"
   ]
  },
  {
   "cell_type": "markdown",
   "metadata": {},
   "source": [
    "# Tela 7\n",
    "    Após ativar a empresa, no menu superior, selecionar a opção Relatórios e selecionar as demais opções conforme a imagem"
   ]
  },
  {
   "cell_type": "code",
   "execution_count": null,
   "metadata": {},
   "outputs": [],
   "source": [
    "# seleciona submenus de relatorio\n",
    "pyg.shortcut(\"alt\", \"r\")\n",
    "pyg.press(\"n\")\n",
    "pyg.press(\"f\")\n",
    "pyg.press(\"d\")\n",
    "pyg.press(\"m\")"
   ]
  },
  {
   "cell_type": "markdown",
   "metadata": {},
   "source": [
    "# Tela 8\n",
    "\tNessa tela, será feita a exportação do relatório referente à empresa ativada anteriormente\n",
    "\tAlterar a competência conforme a planilha, alterar o caminho de onde será salvo e selecionar a opção Exportar\n",
    "\tCaminho que deverá ser escrito (altere a palavra Teste para o código da empresa na planilha):\n",
    "\t\t- M:\\DCTF\\Teste.RFB"
   ]
  },
  {
   "cell_type": "markdown",
   "metadata": {},
   "source": [
    "# Tela 9\n",
    "    Exportação realizada com sucesso"
   ]
  },
  {
   "cell_type": "code",
   "execution_count": null,
   "metadata": {},
   "outputs": [],
   "source": [
    "time.sleep(2)\n",
    "try:\n",
    "    comp_field = find_image(\"competencia.png\")\n",
    "    path_filed = find_image(\"caminho.png\")\n",
    "    for indice, linha in empresas.iterrows():\n",
    "        comp = linha[\"Competência\"]\n",
    "        cod_er = linha[\"Código ER\"]\n",
    "        empresa = linha[\"Empresa\"]\n",
    "\n",
    "        # caminho para salvar arquivo\n",
    "        file = f\"{cod_er}.RFB\"\n",
    "        save_path = f\"M:\\DCTF\\{file}\"\n",
    "\n",
    "        # seleciona e troca a competencia\n",
    "        pyg.click(comp_field)\n",
    "        pyg.write(comp)\n",
    "\n",
    "        # seleciona o campo para digitar o caminho e digita o caminho\n",
    "        pyg.click(path_filed)\n",
    "        pyg.write(save_path)\n",
    "\n",
    "        # exporta\n",
    "        pyg.shortcut(\"alt\", \"x\")\n",
    "        pyg.press(\"enter\")\n",
    "\n",
    "        impostos_nao_calculados = find_image(\"impostos_nao_calculados.png\")\n",
    "        if impostos_nao_calculados:\n",
    "            nome_arquivo = f\"{empresa}_erro.txt\"\n",
    "            pyg.press(\"enter\")\n",
    "\n",
    "            with open(nome_arquivo, \"w\") as arquivo:\n",
    "                arquivo.write(empresa)\n",
    "\n",
    "except:\n",
    "    print(f\"Error ao carregar exportação DCTF Mensal\")\n",
    "    exit()"
   ]
  },
  {
   "cell_type": "markdown",
   "metadata": {},
   "source": [
    "# Tela 10\n",
    "    Abrir o programa DCTF"
   ]
  },
  {
   "cell_type": "code",
   "execution_count": null,
   "metadata": {},
   "outputs": [],
   "source": [
    "pyg.press(\"winleft\")\n",
    "pyg.write(\"DCTF\")\n",
    "pyg.press(\"enter\")"
   ]
  },
  {
   "cell_type": "markdown",
   "metadata": {},
   "source": [
    "# Tela 11\n",
    "    No menu superior, selecionar a opção Declaração e depois a opção Importar"
   ]
  },
  {
   "cell_type": "markdown",
   "metadata": {},
   "source": [
    "# Tela 12\n",
    "    Selecionar a opção DCTF utilizando doubleclick, escrever o nome do arquivo que foi salvo na caixa Nome do Arquivo e selecionar o botão ok"
   ]
  },
  {
   "cell_type": "markdown",
   "metadata": {},
   "source": [
    "# Tela 13\n",
    "    Importação realizada com sucesso\n",
    "    Clicar em ok para fechar a janela\n",
    "    O programa voltará para a tela 12, selecionar o botão Cancelar para fechar a janela"
   ]
  },
  {
   "cell_type": "markdown",
   "metadata": {},
   "source": [
    "# Tela 14\n",
    "    Para abrir essa janela, o programa estará na tela 10, selecione a segunda opção em baixo do menu Declaração\n",
    "    Selecionar a opção OK para importar o arquivo para a empresa selecionada"
   ]
  },
  {
   "cell_type": "code",
   "execution_count": null,
   "metadata": {},
   "outputs": [],
   "source": [
    "time.sleep(2)\n",
    "try:\n",
    "    tela_DCTF = find_image(\"tela_DCTF.png\")\n",
    "    linha_DCTF = find_image(\"linha_DCTF.png\")\n",
    "    campo_nome_arquivo = find_image(\"campo_nome_do_arquivo.png\")\n",
    "\n",
    "    for indice, linha in empresas:\n",
    "        cod_er = linha[\"Código ER\"]\n",
    "        file = f\"{cod_er}.RFB\"\n",
    "\n",
    "        # selecionar importar\n",
    "        pyg.shortcut(\"ctrl\", \"m\")\n",
    "        # clica na linha DCTF\n",
    "        pyg.doubleClick(linha_DCTF)\n",
    "        # seleciona o campo Nome do Arquivo\n",
    "        pyg.click(campo_nome_arquivo)\n",
    "        # escreve o nome do arquivo e aperta ok\n",
    "        pyg.write(file)\n",
    "        pyg.shortcut(\"alt\", \"o\")\n",
    "        pyg.press(\"enter\")\n",
    "\n",
    "        # aperta ok no caso de sucesso\n",
    "        pyg.press(\"enter\")\n",
    "        pyg.shortcut(\"alt\", \"c\")\n",
    "        pyg.press(\"enter\")\n",
    "        pyg.shortcut(\"ctrl\", \"a\")\n",
    "        pyg.shortcut(\"alt\", \"o\")\n",
    "\n",
    "\n",
    "except:\n",
    "    print(f\"Error ao carregar DCTF Mensal\")\n",
    "    exit()\n",
    "\n",
    "driver.quit()"
   ]
  }
 ],
 "metadata": {
  "kernelspec": {
   "display_name": "rpa",
   "language": "python",
   "name": "python3"
  },
  "language_info": {
   "codemirror_mode": {
    "name": "ipython",
    "version": 3
   },
   "file_extension": ".py",
   "mimetype": "text/x-python",
   "name": "python",
   "nbconvert_exporter": "python",
   "pygments_lexer": "ipython3",
   "version": "3.12.2"
  }
 },
 "nbformat": 4,
 "nbformat_minor": 2
}
